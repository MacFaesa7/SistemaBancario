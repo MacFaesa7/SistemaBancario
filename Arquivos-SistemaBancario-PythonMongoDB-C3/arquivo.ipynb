{
 "cells": [
  {
   "cell_type": "markdown",
   "metadata": {},
   "source": [
    "# Inicio"
   ]
  },
  {
   "cell_type": "code",
   "execution_count": null,
   "metadata": {},
   "outputs": [
    {
     "ename": "",
     "evalue": "",
     "output_type": "error",
     "traceback": [
      "\u001b[1;31mA execução de células com \"Python 3.9.12 ('.venv': venv)\" requer o pacote ipykernel.\n",
      "\u001b[1;31mExecute o seguinte comando para instalar \"ipykernel\" no ambiente do Python. \n",
      "\u001b[1;31mComando: \"c:/Users/aluno.laboratorio/Documents/.venv/Scripts/python.exe -m pip install ipykernel -U --force-reinstall\""
     ]
    }
   ],
   "source": [
    "!pip install sqlite3\n",
    "#pip install ipykernel -U --force-reinstall"
   ]
  }
 ],
 "metadata": {
  "kernelspec": {
   "display_name": "Python 3.9.12 ('.venv': venv)",
   "language": "python",
   "name": "python3"
  },
  "language_info": {
   "codemirror_mode": {
    "name": "ipython",
    "version": 3
   },
   "file_extension": ".py",
   "mimetype": "text/x-python",
   "name": "python",
   "nbconvert_exporter": "python",
   "pygments_lexer": "ipython3",
   "version": "3.9.12"
  },
  "orig_nbformat": 4,
  "vscode": {
   "interpreter": {
    "hash": "3f5b0f904bee7da53545aea35a643697c753073b1d67a4ad241e44b663b6f638"
   }
  }
 },
 "nbformat": 4,
 "nbformat_minor": 2
}
